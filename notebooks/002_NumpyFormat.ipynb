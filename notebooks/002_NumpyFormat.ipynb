{
 "cells": [
  {
   "cell_type": "code",
   "execution_count": 4,
   "metadata": {},
   "outputs": [],
   "source": [
    "import sys\n",
    "sys.path.append(\"..\")\n",
    "import json\n",
    "import numpy as np, matplotlib.pyplot as plt\n",
    "X = list() \n",
    "Y = list()\n",
    "labels_animals = { \"Agneau\": 0, \"Sheep\": 0, \"Veau\":1, \"Calf\":1, \"Chevre\":2}\n",
    "labels_country = { \"UK\": 0, \"DE\": 1, \"Al\":1, \"Unknown\":2 }\n",
    "labels_side = { \"grain\": 0, \"flesh\": 1, \"Unknown\":2 }"
   ]
  },
  {
   "cell_type": "code",
   "execution_count": 5,
   "metadata": {},
   "outputs": [
    {
     "name": "stdout",
     "output_type": "stream",
     "text": [
      "81 samples\n",
      "2\n"
     ]
    }
   ],
   "source": [
    "with open(\"../data/with_proteomics.json\", 'r') as f:\n",
    "    d = json.load(f)\n",
    "print(len(d), \"samples\")\n",
    "tokens = [\"A\", \"RD\"]\n",
    "\n",
    "for sample in d:\n",
    "    spectrums = list()\n",
    "    if \"RDg\" in sample[\"entries\"]:\n",
    "        for t in tokens:\n",
    "            spectrums.append(sample[\"entries\"][t+\"g\"]['spectrum'])\n",
    "    else:\n",
    "        for t in tokens:\n",
    "            spectrums.append(sample[\"entries\"][t]['spectrum'])\n",
    "\n",
    "    if sample[\"commons\"][\"animal\"] in labels_animals and sample[\"commons\"][\"country\"] in labels_country:\n",
    "        if sample[\"commons\"][\"country\"] == \"Unknown\":\n",
    "            Y.append((labels_animals[sample[\"commons\"][\"animal\"]], labels_country[sample[\"commons\"][\"country\"]], 2, 2))\n",
    "        else:\n",
    "            Y.append((labels_animals[sample[\"commons\"][\"animal\"]], labels_country[sample[\"commons\"][\"country\"]], 1, \"RDg\" in sample[\"entries\"]))\n",
    "    else:\n",
    "        print(sample[\"commons\"][\"animal\"], sample[\"commons\"][\"country\"])\n",
    "    X.append(spectrums)\n",
    "print(len(X[0]))"
   ]
  },
  {
   "cell_type": "code",
   "execution_count": 6,
   "metadata": {},
   "outputs": [
    {
     "name": "stdout",
     "output_type": "stream",
     "text": [
      "(81, 2, 2151)\n"
     ]
    }
   ],
   "source": [
    "X, Y = np.asarray(X), np.asarray(Y)\n",
    "print(X.shape)\n",
    "np.savez_compressed(f\"../data/parchments.npz\", x = X, labels = Y, count=len(d), note=\"A+RD\")"
   ]
  }
 ],
 "metadata": {
  "kernelspec": {
   "display_name": "Python 3 (ipykernel)",
   "language": "python",
   "name": "python3"
  },
  "language_info": {
   "codemirror_mode": {
    "name": "ipython",
    "version": 3
   },
   "file_extension": ".py",
   "mimetype": "text/x-python",
   "name": "python",
   "nbconvert_exporter": "python",
   "pygments_lexer": "ipython3",
   "version": "3.8.12"
  }
 },
 "nbformat": 4,
 "nbformat_minor": 4
}
