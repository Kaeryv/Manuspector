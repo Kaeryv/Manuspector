{
 "cells": [
  {
   "cell_type": "markdown",
   "metadata": {},
   "source": [
    "## Variationnal Auto-Encoder for spectral data compression and analysis.\n",
    "\n",
    "We will be using pytorch to create an auto-encoder module."
   ]
  },
  {
   "cell_type": "code",
   "execution_count": 1,
   "metadata": {},
   "outputs": [],
   "source": [
    "%matplotlib widget\n",
    "\n",
    "from torch import tanh, relu, Tensor, log_softmax\n",
    "from torch.nn.functional import nll_loss\n",
    "import torch\n",
    "from torch.nn import Module, Linear, Dropout, Conv1d, MSELoss, LeakyReLU\n",
    "\n",
    "from torch.optim import Adam\n",
    "from torch.utils.data import TensorDataset, DataLoader\n",
    "import numpy as np, matplotlib.pyplot as plt, toolkit.preprocessing as pp"
   ]
  },
  {
   "cell_type": "code",
   "execution_count": 2,
   "metadata": {},
   "outputs": [],
   "source": [
    "class VariationalAutoEncoder(Module):\n",
    "    def __init__(self, in_features, latent_features, complexity=2, smoothing=15):\n",
    "        super().__init__()\n",
    "        self.latent_features, self.in_features = latent_features, in_features\n",
    "        self.smoothing = smoothing\n",
    "        # The layers\n",
    "        #self.conv1 = Conv1d(in_channels=1, out_channels=2, kernel_size=5)\n",
    "        #self.enc1 = Linear(in_features=2*(in_features-5+1), out_features=512)#\n",
    "        sl1 = complexity*128\n",
    "        sl2 = complexity*32\n",
    "        self.enc1 = Linear(in_features=in_features,out_features=sl1)\n",
    "        self.enc2 = Linear(in_features=sl1, out_features=sl2)\n",
    "        # Mean and logvar\n",
    "        self.enc3 = Linear(in_features=sl2, out_features=latent_features*2)\n",
    "    \n",
    "        self.dec1 = Linear(in_features=latent_features, out_features=sl1)\n",
    "        self.dec2 = Linear(in_features=sl1, out_features=sl2)\n",
    "        self.dec3 = Linear(in_features=sl2, out_features=in_features+self.smoothing-1)\n",
    "        #self.dec3 = Linear(in_features=64, out_features=in_features)\n",
    "        \n",
    "        self.conv2 = Conv1d(in_channels=1, out_channels=1, kernel_size=self.smoothing)\n",
    "\n",
    "    def reparameterize(self, latent_mean, latent_logvar):\n",
    "        std = torch.exp(0.5*latent_logvar)\n",
    "        eps = torch.randn_like(std)\n",
    "        sample = latent_mean + (eps * std)\n",
    "        return sample\n",
    "\n",
    "    def encode(self, X):\n",
    "        X = X if isinstance(X, Tensor) else Tensor(X)\n",
    "        #X = self.do1(X)\n",
    "        #X = self.conv1(X.reshape((X.shape[0], 1, -1))).reshape((-1,2*(self.in_features-5+1))) # 4298 4302\n",
    "        X = LeakyReLU()(self.enc1(X))\n",
    "        #X = self.do2(X)\n",
    "        X = LeakyReLU()(self.enc2(X))\n",
    "        X = self.enc3(X).view(-1, 2, self.latent_features)\n",
    "        mu = X[:, 0, :] # the first feature values as mean\n",
    "        log_var = X[:, 1, :] # the other feature values as variance\n",
    "        return mu, log_var\n",
    "    \n",
    "    def decode(self, X):\n",
    "        X = X if isinstance(X, Tensor) else Tensor(X)\n",
    "        Y = LeakyReLU()(self.dec1(X))\n",
    "        Y = LeakyReLU()(self.dec2(Y))\n",
    "        Y = self.dec3(Y)\n",
    "        Y = Y.view(-1, 1, self.in_features+self.smoothing-1)\n",
    "        Y = self.conv2(Y)\n",
    "        Y = Y.view(-1, self.in_features)\n",
    "        return Y\n",
    "    def forward(self, X):\n",
    "        X = X if isinstance(X, Tensor) else Tensor(X)\n",
    "        mu, log_var = self.encode(X)\n",
    "        X = self.reparameterize(mu, log_var)\n",
    "        Y = self.decode(X)\n",
    "        return Y, mu, log_var\n",
    "\n",
    "    def fit(self, loader, opt):\n",
    "        self.train()\n",
    "        running_loss = 0.0\n",
    "        num_batches = 0\n",
    "        for batch in loader:\n",
    "            data = batch[0]\n",
    "            opt.zero_grad()\n",
    "            reconstruction, mu, logvar = self(data)\n",
    "            bce_loss = criterion(reconstruction, data)\n",
    "            loss = final_loss(bce_loss, mu, logvar, kld_weight=0.005) / len(data)\n",
    "            running_loss += loss.item()\n",
    "            num_batches += 1\n",
    "            loss.backward()\n",
    "            opt.step()\n",
    "        train_loss = running_loss / float(num_batches)\n",
    "        return train_loss\n",
    "def final_loss(bce_loss, mu, logvar, kld_weight=0.005):\n",
    "    BCE = bce_loss \n",
    "    KLD = -0.5 * torch.sum(1 + logvar - mu.pow(2) - logvar.exp())\n",
    "    return BCE + kld_weight * KLD"
   ]
  },
  {
   "cell_type": "code",
   "execution_count": 3,
   "metadata": {},
   "outputs": [
    {
     "data": {
      "application/vnd.jupyter.widget-view+json": {
       "model_id": "893e81c328054edf888c0b174949a023",
       "version_major": 2,
       "version_minor": 0
      },
      "text/plain": [
       "Canvas(toolbar=Toolbar(toolitems=[('Home', 'Reset original view', 'home', 'home'), ('Back', 'Back to previous …"
      ]
     },
     "metadata": {},
     "output_type": "display_data"
    }
   ],
   "source": [
    "X_orig = np.load(\"./db/parchments_x_new.npy\")[:,:,:]\n",
    "fig, axs = plt.subplots(1,2,figsize=(9,3))\n",
    "for i in range(X_orig.shape[0]):\n",
    "    axs[0].plot(X_orig[i,:,::2].flatten())\n",
    "scaler = pp.MeanMinMaxScaler()\n",
    "X = scaler.fit_transform(X_orig)\n",
    "for i in range(X.shape[0]):\n",
    "    axs[1].plot(X[i,:,::2].flatten())\n"
   ]
  },
  {
   "cell_type": "code",
   "execution_count": 4,
   "metadata": {
    "tags": []
   },
   "outputs": [],
   "source": [
    "criterion = MSELoss(reduction=\"sum\")\n",
    "from tqdm import trange\n",
    "def train(bs, llr, cmpl,smoothing, latent=2):\n",
    "    vae = VariationalAutoEncoder(X.shape[2]*2, latent, complexity=cmpl, smoothing=smoothing)\n",
    "    opt = Adam(vae.parameters(), lr=10**llr)\n",
    "    epochs = 1000\n",
    "    bs = int(bs)\n",
    "    train_loader = DataLoader(TensorDataset(Tensor(X.reshape(X.shape[0], -1))), batch_size=bs, shuffle=True)\n",
    "    progress = trange(epochs)\n",
    "    train_loss = []\n",
    "    for epoch in progress:\n",
    "        train_epoch_loss = vae.fit(train_loader, opt)\n",
    "        train_loss.append(train_epoch_loss)\n",
    "        progress.set_description(f\"epoch: {epoch} | loss: {round(train_epoch_loss,5)}.\")\n",
    "    return train_loss, vae\n",
    "\n",
    "def fitness(params):\n",
    "    tl, _ = train(*params)\n",
    "    res = np.min(tl)\n",
    "    if  res == np.nan or res == np.inf or not (res > 0 and res < 1e3) :\n",
    "        return 1e3\n",
    "    else:\n",
    "        return res\n",
    "\n",
    "import time\n",
    "    "
   ]
  },
  {
   "cell_type": "code",
   "execution_count": null,
   "metadata": {},
   "outputs": [],
   "source": [
    "from skopt import gbrt_minimize\n",
    "from skopt.space import Integer, Real\n",
    "space = [Integer(4, 32), Real(-4, -2), Integer(1, 4), Integer(5, 21)]\n",
    "start = time.time()\n",
    "res = gbrt_minimize(fitness, space, n_calls=100)\n",
    "stop = time.time()\n",
    "print(stop-start)"
   ]
  },
  {
   "cell_type": "code",
   "execution_count": 25,
   "metadata": {},
   "outputs": [
    {
     "name": "stdout",
     "output_type": "stream",
     "text": [
      "23 -2.553545226043065 2 11\n"
     ]
    }
   ],
   "source": [
    "import pickle,os\n",
    "if not os.path.isfile(\"optimized.obj\"):\n",
    "    with open(\"optimized.obj\", \"wb\") as f:\n",
    "        pickle.dump(res, f)\n",
    "else:\n",
    "    with open(\"optimized.obj\", \"rb\") as f:\n",
    "        res = pickle.load(f)\n",
    "print(*res.x)\n",
    "config = [23, -2.553545226043065, 2, 11]\n",
    "#tl, vae = train(*res.x)\n",
    "#torch.save(vae, \"VAE.model\")\n",
    "#scaler.dump(\"VAE.scaler\")\n",
    "#tl, vae = train(*config)\n",
    "vae = torch.load(\"VAE.model\")"
   ]
  },
  {
   "cell_type": "code",
   "execution_count": 26,
   "metadata": {},
   "outputs": [
    {
     "data": {
      "text/plain": [
       "0.00011741915957166135"
      ]
     },
     "execution_count": 26,
     "metadata": {},
     "output_type": "execute_result"
    }
   ],
   "source": [
    "plt.semilogy(tl,label=\"Fidelity\")\n",
    "plt.legend()\n",
    "np.min(tl)"
   ]
  },
  {
   "cell_type": "code",
   "execution_count": 6,
   "metadata": {},
   "outputs": [
    {
     "data": {
      "text/plain": [
       "VariationalAutoEncoder(\n",
       "  (enc1): Linear(in_features=4302, out_features=256, bias=True)\n",
       "  (enc2): Linear(in_features=256, out_features=64, bias=True)\n",
       "  (enc3): Linear(in_features=64, out_features=4, bias=True)\n",
       "  (dec1): Linear(in_features=2, out_features=256, bias=True)\n",
       "  (dec2): Linear(in_features=256, out_features=64, bias=True)\n",
       "  (dec3): Linear(in_features=64, out_features=4312, bias=True)\n",
       "  (conv2): Conv1d(1, 1, kernel_size=(11,), stride=(1,))\n",
       ")"
      ]
     },
     "execution_count": 6,
     "metadata": {},
     "output_type": "execute_result"
    }
   ],
   "source": [
    "Y = np.load(\"./db/parchments_y_new.npy\")\n",
    "\n",
    "datas  = X.reshape(X.shape[0], -1)\n",
    "mu, logvar = vae.encode(datas)\n",
    "mu = mu.detach().numpy()\n",
    "logvar = logvar.detach().numpy()\n",
    "sig = np.exp(0.5 * logvar)\n",
    "vae.eval()"
   ]
  },
  {
   "cell_type": "code",
   "execution_count": 7,
   "metadata": {},
   "outputs": [
    {
     "name": "stdout",
     "output_type": "stream",
     "text": [
      "0\n",
      "1\n",
      "2\n"
     ]
    },
    {
     "data": {
      "text/plain": [
       "<matplotlib.legend.Legend at 0x7f1181362520>"
      ]
     },
     "execution_count": 7,
     "metadata": {},
     "output_type": "execute_result"
    },
    {
     "data": {
      "image/png": "[encoded data removed]",
      "text/plain": [
       "<Figure size 432x432 with 1 Axes>"
      ]
     },
     "metadata": {
      "needs_background": "light"
     },
     "output_type": "display_data"
    }
   ],
   "source": [
    "labels_animals = [\"Agneau\", \"Veau\", \"Chevre\"]\n",
    "labels_country = [\"UK\", \"DE\", \"Manuscripts\"]\n",
    "\n",
    "group = np.unique(Y[:,0])\n",
    "from matplotlib.patches import Ellipse, Rectangle\n",
    "\n",
    "fig, axs = plt.subplots(1,1,figsize=(6,6))\n",
    "elems = []\n",
    "for g in group:\n",
    "    i = np.where(Y[:,0] == g)\n",
    "    #axs.scatter(mu[i, 0], mu[i, 1], label=labels_animals[g], s=(2000*sig[i])**2,alpha=0.5)#\n",
    "    print(g)\n",
    "    for ii in i[0]:\n",
    "        dpoint = None\n",
    "        ls = \"--\" if Y[ii,1] == 0 else \"-\" # Dash is UK, line is DE\n",
    "        if Y[ii,2] == 0: # Grain\n",
    "            dpoint = Rectangle((mu[ii,0], mu[ii,1]), width=10*sig[ii,0] * 2, height=10*sig[ii,1] * 2, facecolor=f\"C{g}\", alpha=0.4,edgecolor='k',linestyle=ls)\n",
    "        elif Y[ii,2] == 1: # Flesh\n",
    "            dpoint = Ellipse((mu[ii,0], mu[ii,1]), width=10*sig[ii,0] * 2, height=10*sig[ii,1] * 2, facecolor=f\"C{g}\", alpha=0.4,linestyle=ls,edgecolor='k')\n",
    "        else:\n",
    "            dpoint = Ellipse((mu[ii,0], mu[ii,1]), width=10*sig[ii,0] * 2, height=10*sig[ii,1] * 2, color=f\"C{g}\", alpha=0.4)\n",
    "        axs.add_patch(dpoint)\n",
    "    elems.append(dpoint)\n",
    "plt.axis([np.min(mu[:,0]),np.max(mu[:,0]),np.min(mu[:,1]),np.max(mu[:,1])])\n",
    "plt.legend(elems, labels_animals)\n"
   ]
  },
  {
   "cell_type": "code",
   "execution_count": 7,
   "metadata": {},
   "outputs": [],
   "source": [
    "#ii = 50\n",
    "#datas  = X.reshape(X.shape[0], -1)\n",
    "#mu, logvar = vae.encode(datas)\n",
    "#mu = mu.detach().numpy()\n",
    "#reconstructed = vae.decode(mu[ii,:]).detach().numpy().T\n",
    "#l1, = plt.plot(reconstructed)\n",
    "#plt.plot(datas[ii])"
   ]
  },
  {
   "cell_type": "code",
   "execution_count": 22,
   "metadata": {},
   "outputs": [],
   "source": [
    "from __future__ import print_function\n",
    "import matplotlib.pyplot as plt\n",
    "from ipywidgets import interact, interactive, fixed, interact_manual\n",
    "import ipywidgets as widgets\n",
    "import copy"
   ]
  },
  {
   "cell_type": "code",
   "execution_count": 23,
   "metadata": {},
   "outputs": [
    {
     "data": {
      "application/vnd.jupyter.widget-view+json": {
       "model_id": "18bd56a76bf34ca5bae5b2b6ec390501",
       "version_major": 2,
       "version_minor": 0
      },
      "text/plain": [
       "Canvas(toolbar=Toolbar(toolitems=[('Home', 'Reset original view', 'home', 'home'), ('Back', 'Back to previous …"
      ]
     },
     "metadata": {},
     "output_type": "display_data"
    },
    {
     "data": {
      "application/vnd.jupyter.widget-view+json": {
       "model_id": "09c27ca0de314d85b1c753638fd2bab2",
       "version_major": 2,
       "version_minor": 0
      },
      "text/plain": [
       "interactive(children=(IntSlider(value=1, description='x', max=80), Output()), _dom_classes=('widget-interact',…"
      ]
     },
     "metadata": {},
     "output_type": "display_data"
    }
   ],
   "source": [
    "display_model  = copy.deepcopy(vae)\n",
    "display_model.eval()\n",
    "datas  = X.reshape(X.shape[0], -1)\n",
    "mudisp, logvardisp = display_model.encode(datas)\n",
    "mudisp = mudisp.detach().numpy()\n",
    "logvardisp = logvardisp.detach().numpy()\n",
    "sigdisp = np.exp(0.5 * logvardisp)\n",
    "wl = np.load(\"db/wl.npy\")\n",
    "reconstructed = display_model.decode(mudisp[0,:]).detach().numpy().T.reshape((1, 2,-1))\n",
    "reconstructed = scaler.inverse_transform(reconstructed)\n",
    "\n",
    "\n",
    "fig, axs = plt.subplots(1,1, figsize=(8,3))\n",
    "\n",
    "l1, = axs.plot(wl, reconstructed[0, 1,:], 'k-.')\n",
    "l2,  = axs.plot(wl, X_orig[0, 1,:], 'b-', alpha=0.6)\n",
    "l3,l4 = axs.plot(wl, reconstructed[0, 0,:], wl, X_orig[0, 0,:])\n",
    "#e1,e2 = axs[1].plot(wl, (reconstructed[0, 0,:]- X_orig[0, 0,:])/X_orig[0, 0,:], wl, (reconstructed[0, 1,:]- X_orig[0, 1,:])/X_orig[0, 1,:])\n",
    "#axs[1].axis([0,2200,-3,3])\n",
    "\n",
    "@widgets.interact(x=(0, 80, 1))\n",
    "def f(x=1):\n",
    "    reconstructed = display_model.decode(mudisp[x,:]).detach().numpy().T.reshape((1, 2,-1))\n",
    "    reconstructed = scaler.inverse_transform(reconstructed)\n",
    "    #axs.set_title(f\"{mudisp[x,:]}\")\n",
    "    l1.set_ydata(reconstructed[0,1,:])\n",
    "    l3.set_ydata(reconstructed[0,0,:]*20)\n",
    "    l2.set_ydata(X_orig[x, 1,:])\n",
    "    l4.set_ydata(X_orig[x, 0,:]*20)\n",
    "    #e1.set_ydata(reconstructed[0, 0,:]- X_orig[x, 0,:]*5)\n",
    "    #e2.set_ydata(reconstructed[0, 1,:]- X_orig[x, 1,:])\n",
    "    return x\n",
    "#axs.axis([wl.min(),wl.max(),0,100])\n"
   ]
  },
  {
   "cell_type": "code",
   "execution_count": 24,
   "metadata": {
    "scrolled": true
   },
   "outputs": [
    {
     "data": {
      "application/vnd.jupyter.widget-view+json": {
       "model_id": "24e856549bde4a4e964764f18ab00b47",
       "version_major": 2,
       "version_minor": 0
      },
      "text/plain": [
       "Canvas(toolbar=Toolbar(toolitems=[('Home', 'Reset original view', 'home', 'home'), ('Back', 'Back to previous …"
      ]
     },
     "metadata": {},
     "output_type": "display_data"
    },
    {
     "name": "stdout",
     "output_type": "stream",
     "text": [
      "(100, 100, 2, 1)\n"
     ]
    },
    {
     "data": {
      "application/vnd.jupyter.widget-view+json": {
       "model_id": "47cb9133f8ad4306a8ec6bf659c1a0d8",
       "version_major": 2,
       "version_minor": 0
      },
      "text/plain": [
       "interactive(children=(IntRangeSlider(value=(700, 1000), continuous_update=False, description='x', max=2300, mi…"
      ]
     },
     "metadata": {},
     "output_type": "display_data"
    },
    {
     "data": {
      "text/plain": [
       "Text(0, 0.5, 'Coding variable II')"
      ]
     },
     "execution_count": 24,
     "metadata": {},
     "output_type": "execute_result"
    }
   ],
   "source": [
    "## Compute spectral properties and map them to latent space\n",
    "fig, axs = plt.subplots(1,1, figsize=(6,6))\n",
    "from itertools import product\n",
    "N = 100\n",
    "i = np.where((wl < 500) & (wl > 0))\n",
    "x = np.linspace(np.min(mu[:,0]),np.max(mu[:,0]), N)\n",
    "y = np.linspace(np.min(mu[:,1]),np.max(mu[:,1]), N)\n",
    "points = list(product(x,y))\n",
    "xy = np.asarray(points).reshape(N**2,2)\n",
    "reconstructed = vae.decode(xy).detach().numpy().reshape(N*N, 2, -1)\n",
    "reconstructed = scaler.inverse_transform(reconstructed).reshape(N,N, 2, -1)\n",
    "Z = np.mean(reconstructed[:, :, :, i],axis=-1)\n",
    "print(Z.shape)\n",
    "hi = plt.imshow(Z[:,:,1],extent=[x.min(), x.max(), y.min(), y.max()],vmin=Z.min(),vmax=Z.max())\n",
    "\n",
    "\n",
    "studied_label = 1\n",
    "group = np.unique(Y[:,studied_label])\n",
    "for g in group:\n",
    "    i = np.where(Y[:,studied_label] == g)\n",
    "    axs.scatter(mu[i, 0], mu[i, 1], alpha=0.5)#\n",
    "    \n",
    "plt.axis(\"auto\")\n",
    "def f(x):\n",
    "    minwl, maxwl = x\n",
    "    i = np.where((wl < maxwl) & (wl > minwl))\n",
    "    Z = np.mean(reconstructed[:, :, :, i],axis=-1)\n",
    "    hi.set_data(Z[:,:,1])\n",
    "    hi.set_clim(Z.min(), Z.max())\n",
    "    \n",
    "interact(f, x=widgets.IntRangeSlider(value=[700,1000], min=300, max=2300, step=10,continuous_update=False))\n",
    "axs.set_title(f\"Mean spectral content for [{700},{1000}] nm\")\n",
    "axs.set_xlabel(\"Coding variable I\")\n",
    "axs.set_ylabel(\"Coding variable II\")"
   ]
  },
  {
   "cell_type": "markdown",
   "metadata": {},
   "source": [
    "## Classify from a 8-dim latent space\n",
    "\n",
    "- Too much information is destroyed in 2D\n",
    "- Information is well compressed with ~10D"
   ]
  },
  {
   "cell_type": "code",
   "execution_count": 10,
   "metadata": {},
   "outputs": [],
   "source": [
    "import copy\n",
    "from torch.nn import NLLLoss\n",
    "class ClassificationModule(Module):\n",
    "    def __init__(self, encoder):\n",
    "        super().__init__()\n",
    "        self.encoder = copy.deepcopy(encoder)\n",
    "        self.encoder.eval()\n",
    "        self.lin1 = Linear(in_features=8, out_features=3)\n",
    "        #self.lin2 = Linear(in_features=64, out_features=3)\n",
    "    def forward(self, X):\n",
    "        X = X if isinstance(X, Tensor) else Tensor(X)\n",
    "        mu, logvar = self.encoder.encode(X)\n",
    "        Y = log_softmax(self.lin1(mu), dim=-1)\n",
    "        #Y = log_softmax(self.lin2(Y), dim=-1)\n",
    "        return Y"
   ]
  },
  {
   "cell_type": "code",
   "execution_count": 11,
   "metadata": {},
   "outputs": [
    {
     "name": "stderr",
     "output_type": "stream",
     "text": [
      "epoch: 999 | loss: 0.33056.: 100%|██████████| 1000/1000 [01:31<00:00, 10.92it/s]\n"
     ]
    },
    {
     "data": {
      "application/vnd.jupyter.widget-view+json": {
       "model_id": "81801f9206bb4f238c1a20477a4ef5d8",
       "version_major": 2,
       "version_minor": 0
      },
      "text/plain": [
       "Canvas(toolbar=Toolbar(toolitems=[('Home', 'Reset original view', 'home', 'home'), ('Back', 'Back to previous …"
      ]
     },
     "metadata": {},
     "output_type": "display_data"
    },
    {
     "data": {
      "text/plain": [
       "[<matplotlib.lines.Line2D at 0x7faa4baae3a0>]"
      ]
     },
     "execution_count": 11,
     "metadata": {},
     "output_type": "execute_result"
    }
   ],
   "source": [
    "## A new VAE for classification\n",
    "tl, vae8 = train(8, -3.5, 2, 17, latent=8)\n",
    "plt.figure()\n",
    "plt.plot(tl)"
   ]
  },
  {
   "cell_type": "code",
   "execution_count": 12,
   "metadata": {},
   "outputs": [],
   "source": [
    "model = ClassificationModule(vae8)\n",
    "dataset = TensorDataset(torch.from_numpy(X.reshape(X.shape[0], -1)).float(), torch.from_numpy(Y[:,0]))\n",
    "train_loader = DataLoader(dataset, batch_size=8, shuffle=True)\n",
    "criterion_classif = NLLLoss()\n",
    "optim = Adam(model.parameters(), lr=1e-3)"
   ]
  },
  {
   "cell_type": "code",
   "execution_count": 13,
   "metadata": {},
   "outputs": [
    {
     "name": "stderr",
     "output_type": "stream",
     "text": [
      "epoch: 199 | loss: 0.00012.: 100%|██████████| 200/200 [00:13<00:00, 14.40it/s]\n"
     ]
    },
    {
     "data": {
      "application/vnd.jupyter.widget-view+json": {
       "model_id": "2e4acd56e9494480891ecf4ebf000d30",
       "version_major": 2,
       "version_minor": 0
      },
      "text/plain": [
       "Canvas(toolbar=Toolbar(toolitems=[('Home', 'Reset original view', 'home', 'home'), ('Back', 'Back to previous …"
      ]
     },
     "metadata": {},
     "output_type": "display_data"
    },
    {
     "data": {
      "text/plain": [
       "[<matplotlib.lines.Line2D at 0x7faa4ba91490>]"
      ]
     },
     "execution_count": 13,
     "metadata": {},
     "output_type": "execute_result"
    }
   ],
   "source": [
    "epochs = 200\n",
    "progress = trange(epochs)\n",
    "tl = []\n",
    "for epoch in progress:\n",
    "    epoch_loss = 0.0\n",
    "    \n",
    "    for batch, label in train_loader:\n",
    "        optim.zero_grad()\n",
    "        y_pred = model(batch)\n",
    "        train_loss = criterion_classif(y_pred, label.long())\n",
    "        train_loss.backward()\n",
    "        optim.step()\n",
    "        epoch_loss += train_loss.item()\n",
    "    \n",
    "    \n",
    "    epoch_loss = epoch_loss / len(train_loader)\n",
    "    tl.append(epoch_loss)\n",
    "    progress.set_description(f\"epoch: {epoch} | loss: {round(epoch_loss,5)}.\")\n",
    "plt.figure()\n",
    "plt.plot(tl)\n",
    "    #print(epoch_loss)\n",
    "#clss = model.forward(xy).detach().numpy()\n",
    "#plt.figure(figsize=(6,6))\n",
    "#clss = clss.reshape(N,N,3)\n",
    "#plt.imshow(np.flipud(np.argmax(clss,axis=-1).T),extent=[x.min(), x.max(), y.min(), y.max()])\n",
    "\n",
    "#studied_label = 0\n",
    "#group = np.unique(Y[:,studied_label])\n",
    "#for g in group:\n",
    "#    i = np.where(Y[:,studied_label] == g)\n",
    "#    plt.scatter(mu[i, 0], mu[i, 1])#\n",
    "#plt.axis(\"auto\")\n",
    "    "
   ]
  },
  {
   "cell_type": "code",
   "execution_count": 18,
   "metadata": {},
   "outputs": [
    {
     "data": {
      "application/vnd.jupyter.widget-view+json": {
       "model_id": "4d65f82181134eafbb8b836d603df1f0",
       "version_major": 2,
       "version_minor": 0
      },
      "text/plain": [
       "Canvas(toolbar=Toolbar(toolitems=[('Home', 'Reset original view', 'home', 'home'), ('Back', 'Back to previous …"
      ]
     },
     "metadata": {},
     "output_type": "display_data"
    },
    {
     "data": {
      "text/plain": [
       "(-4.220639228820801,\n",
       " 1.4815107583999634,\n",
       " -3.3525619506835938,\n",
       " 4.493504047393799)"
      ]
     },
     "execution_count": 18,
     "metadata": {},
     "output_type": "execute_result"
    }
   ],
   "source": [
    "###### Represent the classification in 2D\n",
    "fig, axs = plt.subplots(1,1, figsize=(8,6))\n",
    "from itertools import product\n",
    "N = 100\n",
    "i = np.where((wl < 500) & (wl > 0))\n",
    "x = np.linspace(np.min(mu[:,0]),np.max(mu[:,0]), N)\n",
    "y = np.linspace(np.min(mu[:,1]),np.max(mu[:,1]), N)\n",
    "points = list(product(x,y))\n",
    "xy = np.asarray(points).reshape(N**2,2)\n",
    "reconstructed = vae.decode(xy)\n",
    "classifs = model.forward(reconstructed).reshape(N,N, 3).detach().numpy()\n",
    "img = plt.imshow(np.flipud(np.argmax(classifs, axis=-1).T),extent=[x.min(), x.max(), y.min(), y.max()])\n",
    "\n",
    "\n",
    "studied_label = 0\n",
    "group = np.unique(Y[:,studied_label])\n",
    "for g in group:\n",
    "    i = np.where(Y[:,studied_label] == g)\n",
    "    plt.scatter(mu[i, 0], mu[i, 1], alpha=0.5)\n",
    "plt.title(\"Linear classification in the 8-dim latent space.\")\n",
    "\n",
    "axs.set_xlabel(\"Coding variable I\")\n",
    "axs.set_ylabel(\"Coding variable II\")\n",
    "axs.axis(\"auto\")"
   ]
  },
  {
   "cell_type": "code",
   "execution_count": null,
   "metadata": {},
   "outputs": [],
   "source": []
  }
 ],
 "metadata": {
  "kernelspec": {
   "display_name": "Python 3",
   "language": "python",
   "name": "python3"
  },
  "language_info": {
   "codemirror_mode": {
    "name": "ipython",
    "version": 3
   },
   "file_extension": ".py",
   "mimetype": "text/x-python",
   "name": "python",
   "nbconvert_exporter": "python",
   "pygments_lexer": "ipython3",
   "version": "3.9.4"
  }
 },
 "nbformat": 4,
 "nbformat_minor": 4
}
